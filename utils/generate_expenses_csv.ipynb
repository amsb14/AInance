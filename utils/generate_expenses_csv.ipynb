{
 "cells": [
  {
   "cell_type": "code",
   "execution_count": 2,
   "id": "81611539",
   "metadata": {},
   "outputs": [],
   "source": [
    "import csv\n",
    "import random\n",
    "from datetime import datetime, timedelta"
   ]
  },
  {
   "cell_type": "code",
   "execution_count": 175,
   "id": "ff3b50cb",
   "metadata": {},
   "outputs": [],
   "source": [
    "# Define some sample transaction details\n",
    "transaction_details = [\"Grocery shopping\", \"Gas refill\", \"Eating out\", \"Movie\",\n",
    "                       \"Rent\", \"Utilities\", \"Electric bill\", \"Water bill\", \"Internet bill\",\n",
    "                       \"Phone bill\", \"Clothing\", \"Electronics\", \"Entertainment\", \"Healthcare\",\n",
    "                       \"Transportation\", \"Education\", \"Gifts\", \"Charity\", \"Vacation\", \"Fitness\",\n",
    "                       \"Books\", \"Pets\", \"Home improvement\", \"Insurance\", \"Beauty\", \"Household goods\",\n",
    "                       \"Car maintenance\", \"Public transport\", \"Loan repayment\", \"Savings\", \"Investments\"]\n",
    "\n",
    "# Define initial balance and salary\n",
    "salary, balance = 10000, 10000\n",
    "\n",
    "# Define month and year for which transactions are to be generated\n",
    "year, month = 2023, 2\n",
    "\n",
    "# Calculate the number of days in that month\n",
    "start_date = datetime(year, month, 1)\n",
    "if month == 12:\n",
    "    end_date = datetime(year + 1, 1, 1)\n",
    "else:\n",
    "    end_date = datetime(year, month + 1, 1)\n",
    "days = (end_date - start_date).days\n",
    "\n",
    "# Open file to write\n",
    "with open('bank_account_statement.csv', 'w', newline='') as file:\n",
    "    writer = csv.writer(file)\n",
    "\n",
    "    # Write CSV Header\n",
    "    writer.writerow([\"Date\", \"Details\", \"Credit\", \"Debit\", \"Balance\"])\n",
    "\n",
    "    for i in range(days):\n",
    "        # Define date\n",
    "        date = (start_date + timedelta(days=i)).strftime('%Y-%m-%d')\n",
    "\n",
    "        if i == 26:  # if it's 27th day of the month, credit the salary\n",
    "            details = \"Salary\"\n",
    "            credit = salary  # salary range is more than the expenses\n",
    "            debit = 0.00\n",
    "            \n",
    "        else:\n",
    "            # Randomly choose transaction detail\n",
    "            details = random.choice(transaction_details)\n",
    "            \n",
    "            if details == \"Savings\" or details == \"Investments\":\n",
    "                debit = 0.00\n",
    "                credit = round(random.uniform(500, 1500), 2) # Savings/Investment range\n",
    "            \n",
    "            else: \n",
    "                credit = 0.00\n",
    "                debit = round(random.uniform(20, 800), 2)  # expense range\n",
    "\n",
    "        balance += credit - debit\n",
    "\n",
    "        # Write transaction in the CSV file\n",
    "        writer.writerow([date, details, credit, debit, round(balance, 2)])"
   ]
  },
  {
   "cell_type": "code",
   "execution_count": 176,
   "id": "336eb392",
   "metadata": {},
   "outputs": [],
   "source": [
    "import os\n",
    "os.startfile('bank_account_statement.csv')"
   ]
  }
 ],
 "metadata": {
  "kernelspec": {
   "display_name": "Python 3 (ipykernel)",
   "language": "python",
   "name": "python3"
  },
  "language_info": {
   "codemirror_mode": {
    "name": "ipython",
    "version": 3
   },
   "file_extension": ".py",
   "mimetype": "text/x-python",
   "name": "python",
   "nbconvert_exporter": "python",
   "pygments_lexer": "ipython3",
   "version": "3.10.6"
  }
 },
 "nbformat": 4,
 "nbformat_minor": 5
}
